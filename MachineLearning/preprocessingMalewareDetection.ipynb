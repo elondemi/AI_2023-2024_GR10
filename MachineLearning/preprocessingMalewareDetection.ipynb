{
 "cells": [
  {
   "cell_type": "markdown",
   "metadata": {},
   "source": [
    "Dataset : https://www.kaggle.com/datasets/agungpambudi/network-malware-detection-connection-analysis \n"
   ]
  },
  {
   "cell_type": "code",
   "execution_count": 1,
   "metadata": {},
   "outputs": [],
   "source": [
    "import pandas as pd\n",
    "from sklearn.model_selection import train_test_split"
   ]
  },
  {
   "cell_type": "code",
   "execution_count": 17,
   "metadata": {},
   "outputs": [],
   "source": [
    "file_path = \"dataset/unprocessedMalewareDetectionDataset.csv\"\n",
    "df = pd.read_csv(file_path)"
   ]
  },
  {
   "cell_type": "code",
   "execution_count": 18,
   "metadata": {},
   "outputs": [
    {
     "name": "stdout",
     "output_type": "stream",
     "text": [
      "<class 'pandas.core.frame.DataFrame'>\n",
      "RangeIndex: 1008748 entries, 0 to 1008747\n",
      "Data columns (total 23 columns):\n",
      " #   Column          Non-Null Count    Dtype \n",
      "---  ------          --------------    ----- \n",
      " 0   ts              1008748 non-null  int64 \n",
      " 1   uid             1008748 non-null  object\n",
      " 2   id.orig_h       1008748 non-null  object\n",
      " 3   id.orig_p       1008748 non-null  int64 \n",
      " 4   id.resp_h       1008748 non-null  object\n",
      " 5   id.resp_p       1008748 non-null  int64 \n",
      " 6   proto           1008748 non-null  object\n",
      " 7   service         1008748 non-null  object\n",
      " 8   duration        1008748 non-null  object\n",
      " 9   orig_bytes      1008748 non-null  object\n",
      " 10  resp_bytes      1008748 non-null  object\n",
      " 11  conn_state      1008748 non-null  object\n",
      " 12  local_orig      1008748 non-null  object\n",
      " 13  local_resp      1008748 non-null  object\n",
      " 14  missed_bytes    1008748 non-null  int64 \n",
      " 15  history         1008748 non-null  object\n",
      " 16  orig_pkts       1008748 non-null  int64 \n",
      " 17  orig_ip_bytes   1008748 non-null  int64 \n",
      " 18  resp_pkts       1008748 non-null  int64 \n",
      " 19  resp_ip_bytes   1008748 non-null  int64 \n",
      " 20  tunnel_parents  1008748 non-null  object\n",
      " 21  label           1008748 non-null  object\n",
      " 22  detailed-label  1008748 non-null  object\n",
      "dtypes: int64(8), object(15)\n",
      "memory usage: 177.0+ MB\n"
     ]
    }
   ],
   "source": [
    "df.head()\n",
    "df.info()"
   ]
  },
  {
   "cell_type": "code",
   "execution_count": 3,
   "metadata": {},
   "outputs": [],
   "source": [
    "symbol_to_replace = '-'\n",
    "df.replace(symbol_to_replace, pd.NA, inplace=True)"
   ]
  },
  {
   "cell_type": "code",
   "execution_count": 4,
   "metadata": {},
   "outputs": [
    {
     "name": "stdout",
     "output_type": "stream",
     "text": [
      "ts                      0\n",
      "uid                     0\n",
      "id.orig_h               0\n",
      "id.orig_p               0\n",
      "id.resp_h               0\n",
      "id.resp_p               0\n",
      "proto                   0\n",
      "service           1005507\n",
      "duration           796300\n",
      "orig_bytes         796300\n",
      "resp_bytes         796300\n",
      "conn_state              0\n",
      "local_orig        1008748\n",
      "local_resp        1008748\n",
      "missed_bytes            0\n",
      "history             17421\n",
      "orig_pkts               0\n",
      "orig_ip_bytes           0\n",
      "resp_pkts               0\n",
      "resp_ip_bytes           0\n",
      "tunnel_parents    1008748\n",
      "label                   0\n",
      "detailed-label     469275\n",
      "dtype: int64\n"
     ]
    }
   ],
   "source": [
    "print(df.isnull().sum())"
   ]
  },
  {
   "cell_type": "code",
   "execution_count": 5,
   "metadata": {},
   "outputs": [
    {
     "data": {
      "text/html": [
       "<div>\n",
       "<style scoped>\n",
       "    .dataframe tbody tr th:only-of-type {\n",
       "        vertical-align: middle;\n",
       "    }\n",
       "\n",
       "    .dataframe tbody tr th {\n",
       "        vertical-align: top;\n",
       "    }\n",
       "\n",
       "    .dataframe thead th {\n",
       "        text-align: right;\n",
       "    }\n",
       "</style>\n",
       "<table border=\"1\" class=\"dataframe\">\n",
       "  <thead>\n",
       "    <tr style=\"text-align: right;\">\n",
       "      <th></th>\n",
       "      <th>ts</th>\n",
       "      <th>uid</th>\n",
       "      <th>id.orig_h</th>\n",
       "      <th>id.resp_h</th>\n",
       "      <th>proto</th>\n",
       "      <th>duration</th>\n",
       "      <th>conn_state</th>\n",
       "      <th>missed_bytes</th>\n",
       "      <th>history</th>\n",
       "      <th>orig_pkts</th>\n",
       "      <th>orig_ip_bytes</th>\n",
       "      <th>resp_pkts</th>\n",
       "      <th>label</th>\n",
       "    </tr>\n",
       "  </thead>\n",
       "  <tbody>\n",
       "    <tr>\n",
       "      <th>0</th>\n",
       "      <td>1525879831</td>\n",
       "      <td>CUmrqr4svHuSXJy5z7</td>\n",
       "      <td>192.168.100.103</td>\n",
       "      <td>65.127.233.163</td>\n",
       "      <td>tcp</td>\n",
       "      <td>2.999051</td>\n",
       "      <td>S0</td>\n",
       "      <td>0</td>\n",
       "      <td>S</td>\n",
       "      <td>3</td>\n",
       "      <td>180</td>\n",
       "      <td>0</td>\n",
       "      <td>Malicious</td>\n",
       "    </tr>\n",
       "    <tr>\n",
       "      <th>1</th>\n",
       "      <td>1525879831</td>\n",
       "      <td>CH98aB3s1kJeq6SFOc</td>\n",
       "      <td>192.168.100.103</td>\n",
       "      <td>63.150.16.171</td>\n",
       "      <td>tcp</td>\n",
       "      <td>&lt;NA&gt;</td>\n",
       "      <td>S0</td>\n",
       "      <td>0</td>\n",
       "      <td>S</td>\n",
       "      <td>1</td>\n",
       "      <td>60</td>\n",
       "      <td>0</td>\n",
       "      <td>Malicious</td>\n",
       "    </tr>\n",
       "    <tr>\n",
       "      <th>2</th>\n",
       "      <td>1525879831</td>\n",
       "      <td>C3GBTkINvXNjVGtN5</td>\n",
       "      <td>192.168.100.103</td>\n",
       "      <td>111.40.23.49</td>\n",
       "      <td>tcp</td>\n",
       "      <td>&lt;NA&gt;</td>\n",
       "      <td>S0</td>\n",
       "      <td>0</td>\n",
       "      <td>S</td>\n",
       "      <td>1</td>\n",
       "      <td>60</td>\n",
       "      <td>0</td>\n",
       "      <td>Malicious</td>\n",
       "    </tr>\n",
       "    <tr>\n",
       "      <th>3</th>\n",
       "      <td>1525879832</td>\n",
       "      <td>CDe43c1PtgynajGI6</td>\n",
       "      <td>192.168.100.103</td>\n",
       "      <td>131.174.215.147</td>\n",
       "      <td>tcp</td>\n",
       "      <td>2.998796</td>\n",
       "      <td>S0</td>\n",
       "      <td>0</td>\n",
       "      <td>S</td>\n",
       "      <td>3</td>\n",
       "      <td>180</td>\n",
       "      <td>0</td>\n",
       "      <td>Malicious</td>\n",
       "    </tr>\n",
       "    <tr>\n",
       "      <th>4</th>\n",
       "      <td>1525879832</td>\n",
       "      <td>CJaDcG3MZzvf1YVYI4</td>\n",
       "      <td>192.168.100.103</td>\n",
       "      <td>91.42.47.63</td>\n",
       "      <td>tcp</td>\n",
       "      <td>&lt;NA&gt;</td>\n",
       "      <td>S0</td>\n",
       "      <td>0</td>\n",
       "      <td>S</td>\n",
       "      <td>1</td>\n",
       "      <td>60</td>\n",
       "      <td>0</td>\n",
       "      <td>Malicious</td>\n",
       "    </tr>\n",
       "  </tbody>\n",
       "</table>\n",
       "</div>"
      ],
      "text/plain": [
       "           ts                 uid        id.orig_h        id.resp_h proto   \n",
       "0  1525879831  CUmrqr4svHuSXJy5z7  192.168.100.103   65.127.233.163   tcp  \\\n",
       "1  1525879831  CH98aB3s1kJeq6SFOc  192.168.100.103    63.150.16.171   tcp   \n",
       "2  1525879831   C3GBTkINvXNjVGtN5  192.168.100.103     111.40.23.49   tcp   \n",
       "3  1525879832   CDe43c1PtgynajGI6  192.168.100.103  131.174.215.147   tcp   \n",
       "4  1525879832  CJaDcG3MZzvf1YVYI4  192.168.100.103      91.42.47.63   tcp   \n",
       "\n",
       "   duration conn_state  missed_bytes history  orig_pkts  orig_ip_bytes   \n",
       "0  2.999051         S0             0       S          3            180  \\\n",
       "1      <NA>         S0             0       S          1             60   \n",
       "2      <NA>         S0             0       S          1             60   \n",
       "3  2.998796         S0             0       S          3            180   \n",
       "4      <NA>         S0             0       S          1             60   \n",
       "\n",
       "   resp_pkts      label  \n",
       "0          0  Malicious  \n",
       "1          0  Malicious  \n",
       "2          0  Malicious  \n",
       "3          0  Malicious  \n",
       "4          0  Malicious  "
      ]
     },
     "execution_count": 5,
     "metadata": {},
     "output_type": "execute_result"
    }
   ],
   "source": [
    "columns_to_remove = ['service','id.resp_p','id.orig_p', 'orig_bytes', 'resp_bytes', 'local_orig', 'local_resp','resp_ip_bytes', 'tunnel_parents', 'detailed-label']\n",
    "df.drop(columns=columns_to_remove, inplace=True)\n",
    "df.head()"
   ]
  },
  {
   "cell_type": "code",
   "execution_count": 6,
   "metadata": {},
   "outputs": [],
   "source": [
    "column_to_replace = 'duration'"
   ]
  },
  {
   "cell_type": "code",
   "execution_count": 7,
   "metadata": {},
   "outputs": [],
   "source": [
    "df[column_to_replace].fillna(0, inplace=True)"
   ]
  },
  {
   "cell_type": "code",
   "execution_count": 8,
   "metadata": {},
   "outputs": [],
   "source": [
    "column_to_check_duplicates = 'uid'"
   ]
  },
  {
   "cell_type": "code",
   "execution_count": 9,
   "metadata": {},
   "outputs": [],
   "source": [
    "df.drop_duplicates(subset=column_to_check_duplicates, inplace=True)"
   ]
  },
  {
   "cell_type": "code",
   "execution_count": 10,
   "metadata": {},
   "outputs": [],
   "source": [
    "column_to_check = 'missed_bytes'"
   ]
  },
  {
   "cell_type": "code",
   "execution_count": 11,
   "metadata": {},
   "outputs": [
    {
     "name": "stdout",
     "output_type": "stream",
     "text": [
      "Non-zero values in missed_bytes: \n",
      "Series([], Name: missed_bytes, dtype: int64)\n"
     ]
    }
   ],
   "source": [
    "non_zero_values = df[df[column_to_check] != 0][column_to_check]\n",
    "print(\"Non-zero values in {}: \\n{}\".format(column_to_check, non_zero_values))"
   ]
  },
  {
   "cell_type": "code",
   "execution_count": 12,
   "metadata": {},
   "outputs": [
    {
     "name": "stdout",
     "output_type": "stream",
     "text": [
      "                 ts        id.orig_h        id.resp_h proto  duration   \n",
      "0        1525879831  192.168.100.103   65.127.233.163   tcp  2.999051  \\\n",
      "1        1525879831  192.168.100.103    63.150.16.171   tcp         0   \n",
      "2        1525879831  192.168.100.103     111.40.23.49   tcp         0   \n",
      "3        1525879832  192.168.100.103  131.174.215.147   tcp  2.998796   \n",
      "4        1525879832  192.168.100.103      91.42.47.63   tcp         0   \n",
      "...             ...              ...              ...   ...       ...   \n",
      "1008743  1526282655  192.168.100.103    16.219.83.137   udp         0   \n",
      "1008744  1526282682  192.168.100.103   100.57.245.196   udp         0   \n",
      "1008745  1526282625  192.168.100.103     249.99.119.9   udp         0   \n",
      "1008746  1526282676  192.168.100.103  205.103.167.192   udp         0   \n",
      "1008747  1526282660  192.168.100.103    23.70.168.160   udp         0   \n",
      "\n",
      "        conn_state history  orig_pkts  orig_ip_bytes  resp_pkts      label  \n",
      "0               S0       S          3            180          0  Malicious  \n",
      "1               S0       S          1             60          0  Malicious  \n",
      "2               S0       S          1             60          0  Malicious  \n",
      "3               S0       S          3            180          0  Malicious  \n",
      "4               S0       S          1             60          0  Malicious  \n",
      "...            ...     ...        ...            ...        ...        ...  \n",
      "1008743         S0       D          1             40          0     Benign  \n",
      "1008744         S0       D          1             40          0     Benign  \n",
      "1008745         S0       D          1             40          0     Benign  \n",
      "1008746         S0       D          1             40          0     Benign  \n",
      "1008747         S0       D          1             40          0     Benign  \n",
      "\n",
      "[1008748 rows x 11 columns]\n"
     ]
    }
   ],
   "source": [
    "df.drop(columns=[column_to_check,'uid'], inplace=True)\n",
    "print(df)"
   ]
  },
  {
   "cell_type": "code",
   "execution_count": 13,
   "metadata": {},
   "outputs": [],
   "source": [
    "# Convert 'duration' column to numeric, coercing non-numeric values to NaN\n",
    "df['duration'] = pd.to_numeric(df['duration'], errors='coerce')\n",
    "\n",
    "# Calculate the average excluding NaN and 0 values\n",
    "average_value = df[df['duration'].notnull() & (df['duration'] != 0)]['duration'].mean()\n",
    "\n",
    "# Replace 0 values with the average\n",
    "df['duration'] = df['duration'].replace(0, average_value)"
   ]
  },
  {
   "cell_type": "code",
   "execution_count": 14,
   "metadata": {},
   "outputs": [],
   "source": [
    "integer_columns = df.select_dtypes(include='int')"
   ]
  },
  {
   "cell_type": "code",
   "execution_count": 15,
   "metadata": {},
   "outputs": [],
   "source": [
    "column_with_timestamps = 'ts'\n",
    "df[column_with_timestamps] = pd.to_datetime(df[column_with_timestamps], unit='s', origin='unix')"
   ]
  },
  {
   "cell_type": "code",
   "execution_count": 16,
   "metadata": {},
   "outputs": [
    {
     "name": "stdout",
     "output_type": "stream",
     "text": [
      "\n",
      "Shape of Sampled Data:\n",
      "(806998, 10)\n"
     ]
    }
   ],
   "source": [
    "X = df.drop(['label'], axis=1)\n",
    "y = df['label']\n",
    "X_sampled, _, y_sampled, _ = train_test_split(X, y, test_size=0.2, stratify=y, random_state=42)\n",
    "print(\"\\nShape of Sampled Data:\")\n",
    "print(X_sampled.shape)"
   ]
  },
  {
   "cell_type": "code",
   "execution_count": 136,
   "metadata": {},
   "outputs": [],
   "source": [
    "df.to_csv('dataset/malewarePreprocessed.csv', index=False)"
   ]
  }
 ],
 "metadata": {
  "kernelspec": {
   "display_name": "venv",
   "language": "python",
   "name": "python3"
  },
  "language_info": {
   "codemirror_mode": {
    "name": "ipython",
    "version": 3
   },
   "file_extension": ".py",
   "mimetype": "text/x-python",
   "name": "python",
   "nbconvert_exporter": "python",
   "pygments_lexer": "ipython3",
   "version": "3.9.13"
  }
 },
 "nbformat": 4,
 "nbformat_minor": 2
}
